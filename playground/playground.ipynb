{
 "cells": [
  {
   "cell_type": "code",
   "execution_count": 3,
   "metadata": {},
   "outputs": [
    {
     "name": "stdout",
     "output_type": "stream",
     "text": [
      "\u001b[34mHi, what is your name?\u001b[0m\n"
     ]
    },
    {
     "name": "stdin",
     "output_type": "stream",
     "text": [
      " hejei\n"
     ]
    },
    {
     "name": "stdout",
     "output_type": "stream",
     "text": [
      "\u001b[34mHello hejei\u001b[0m\n",
      "\u001b[34mHow are you today?\u001b[0m\n"
     ]
    },
    {
     "name": "stdin",
     "output_type": "stream",
     "text": [
      " good\n"
     ]
    },
    {
     "name": "stdout",
     "output_type": "stream",
     "text": [
      "\u001b[34mI'm feeling good too\u001b[0m\n",
      "\u001b[34mWhat's your favorite color?\u001b[0m\n"
     ]
    },
    {
     "name": "stdin",
     "output_type": "stream",
     "text": [
      " blue\n"
     ]
    },
    {
     "name": "stdout",
     "output_type": "stream",
     "text": [
      "\u001b[34mYou like  blue? My favorite color is blue\u001b[0m\n",
      "\u001b[34mThrough resent upgrade I can do calculation now.Inpute some arithcetic expression to try.Type 'q' 'x' 'quit' or 'exit' to quit\u001b[0m\n"
     ]
    },
    {
     "name": "stdin",
     "output_type": "stream",
     "text": [
      " 7-9\n"
     ]
    },
    {
     "name": "stdout",
     "output_type": "stream",
     "text": [
      "\u001b[34mDone.   Result = -2\u001b[0m\n"
     ]
    },
    {
     "name": "stdin",
     "output_type": "stream",
     "text": [
      " 8-0\n"
     ]
    },
    {
     "name": "stdout",
     "output_type": "stream",
     "text": [
      "\u001b[34mDone.   Result = 8\u001b[0m\n"
     ]
    },
    {
     "name": "stdin",
     "output_type": "stream",
     "text": [
      " exit\n"
     ]
    }
   ],
   "source": [
    "import random\n",
    "import time\n",
    "from termcolor import colored\n",
    "from simpleeval import simple_eval\n",
    "\n",
    "class Bot:\n",
    "    \n",
    "    wait=1  \n",
    "    def __init__(self,runtype='once'): \n",
    "        self.q=''\n",
    "        self.a='' \n",
    "        self.runtype=runtype\n",
    "    def _think(self,s):  \n",
    "        return s\n",
    "    \n",
    "        \n",
    "    def _say(self,s):\n",
    "        time.sleep(Bot.wait)\n",
    "        print(colored(s,'blue'))\n",
    "\n",
    "\n",
    "    def _run_once(self):\n",
    "        self._say(self.q)\n",
    "        self.a=input()\n",
    "        self._say(self._think(self.a))\n",
    "    \n",
    "    def _run_looped(self):\n",
    "        self._say(self.q)\n",
    "        while True:\n",
    "            self.a=input()\n",
    "            if self.a.lower() in['exit','quit','q','x']:\n",
    "                break\n",
    "            self._say(self._think(self.a))\n",
    " \n",
    "        \n",
    "\n",
    "    def run(self):      \n",
    "        if self.runtype=='once':\n",
    "            self._run_once()\n",
    "        elif self.runtype =='looped':\n",
    "            self._run_looped()\n",
    "        \n",
    "\n",
    "class HelloBot(Bot):\n",
    "    def __init__(self, runtype='once'):\n",
    "        super().__init__(runtype)\n",
    "        self.q = \"Hi, what is your name?\"\n",
    "    def _think(self, s):\n",
    "        return f\"Hello {s}\"\n",
    "\n",
    "class GreetingBot(Bot):\n",
    "    def __init__(self, runtype='once'):\n",
    "        super().__init__(runtype)\n",
    "        self.q='How are you today?'\n",
    "        \n",
    "    def _think(self,s):\n",
    "        if 'good'in s.lower() or 'fine' in s.lower():\n",
    "            return('I\\'m feeling good too')\n",
    "        else:\n",
    "            return('sorry to hear that')\n",
    "\n",
    "\n",
    "\n",
    "class FavoritecolorBot(Bot):\n",
    "    def __init__(self, runtype='once'):\n",
    "        super().__init__(runtype)\n",
    "        self.q='What\\'s your favorite color?'\n",
    "    def _think(self, s):\n",
    "        colors = ['red', 'orange', 'yellow', 'green', 'blue', 'indigo', 'purple']\n",
    "        return f'You like  {s.lower()}? My favorite color is {random.choice(colors)}'\n",
    "\n",
    "class CalBot(Bot):\n",
    "    def __init__(self, runtype='once'):\n",
    "        \n",
    "        super().__init__(runtype)\n",
    "        self.q=\"Through resent upgrade I can do calculation now.Inpute some arithcetic expression to try.Type 'q' 'x' 'quit' or 'exit' to quit\"\n",
    "    def _think(self,s):\n",
    "        result = simple_eval(s)\n",
    "        return f\"Done.   Result = {result}\"\n",
    "\n",
    "\n",
    "h=HelloBot() \n",
    "g=GreetingBot()\n",
    "f=FavoritecolorBot() \n",
    "c=CalBot('looped')\n",
    "h.run()\n",
    "g.run()\n",
    "f.run()\n",
    "c.run()"
   ]
  },
  {
   "cell_type": "code",
   "execution_count": 6,
   "metadata": {},
   "outputs": [
    {
     "name": "stdout",
     "output_type": "stream",
     "text": [
      "What's your favorite color?\n"
     ]
    },
    {
     "name": "stdin",
     "output_type": "stream",
     "text": [
      " blue\n"
     ]
    },
    {
     "name": "stdout",
     "output_type": "stream",
     "text": [
      "You like  blue? My favorite color is green\n"
     ]
    }
   ],
   "source": [
    "print('What\\'s your favorite color?')\n",
    "favcolor = input()\n",
    "colors = ['red', 'orange', 'yellow', 'green', 'blue', 'indigo', 'purple']#靛\n",
    "print(f'You like  {favcolor.lower()}? My favorite color is {random.choice(colors)}')"
   ]
  }
 ],
 "metadata": {
  "kernelspec": {
   "display_name": "Python 3",
   "language": "python",
   "name": "python3"
  },
  "language_info": {
   "codemirror_mode": {
    "name": "ipython",
    "version": 3
   },
   "file_extension": ".py",
   "mimetype": "text/x-python",
   "name": "python",
   "nbconvert_exporter": "python",
   "pygments_lexer": "ipython3",
   "version": "3.7.4"
  }
 },
 "nbformat": 4,
 "nbformat_minor": 4
}
